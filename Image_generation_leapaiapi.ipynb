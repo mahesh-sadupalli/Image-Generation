{
 "cells": [
  {
   "cell_type": "code",
   "execution_count": 2,
   "metadata": {},
   "outputs": [],
   "source": [
    "#importing libraries\n",
    "import requests\n",
    "import json\n",
    "import time\n",
    "from IPython.display import Image, display"
   ]
  },
  {
   "cell_type": "code",
   "execution_count": 3,
   "metadata": {},
   "outputs": [],
   "source": [
    "API_KEY = \"API KEY\" #API key of https://www.tryleap.ai/\n",
    "\n",
    "HEADERS = {\n",
    "    \"accept\": \"application/json\",\n",
    "    \"content-type\": \"application/json\",\n",
    "    \"authorization\": f\"Bearer ad87a3e5-8b6c-494c-b684-xxxxaa444d59\"\n",
    "}"
   ]
  },
  {
   "cell_type": "code",
   "execution_count": 4,
   "metadata": {},
   "outputs": [],
   "source": [
    "# Get a list of models\n",
    "def generate_image(model_id, prompt):\n",
    "    url = f\"https://api.tryleap.ai/api/v1/images/models/{model_id}/inferences\"\n",
    "\n",
    "    payload = {               # This is the payload that will be sent to the API\n",
    "        \"prompt\": prompt,\n",
    "        \"steps\": 50,\n",
    "        \"width\": 512,\n",
    "        \"height\": 512,\n",
    "        \"numberOfImages\": 1,  # Generate a single image\n",
    "        \"promptStrength\": 7,\n",
    "        \"enhancePrompt\": False,\n",
    "        \"restoreFaces\": True,\n",
    "        \"upscaleBy\": \"x2\"\n",
    "    }\n",
    "\n",
    "    response = requests.post(url, json=payload, headers=HEADERS)\n",
    "    data = json.loads(response.text)\n",
    "\n",
    "    inference_id = data[\"id\"]\n",
    "    status = data[\"status\"]\n",
    "\n",
    "    print(f\"Inference ID: {inference_id}. Status: {status}\")\n",
    "\n",
    "    return inference_id, status"
   ]
  },
  {
   "cell_type": "code",
   "execution_count": 5,
   "metadata": {},
   "outputs": [],
   "source": [
    "# Get the inference job\n",
    "def get_inference_job(model_id, inference_id):\n",
    "    url = f\"https://api.tryleap.ai/api/v1/images/models/{model_id}/inferences/{inference_id}\"\n",
    "\n",
    "    response = requests.get(url, headers=HEADERS)\n",
    "    data = json.loads(response.text)\n",
    "\n",
    "    inference_id = data[\"id\"]\n",
    "    state = data[\"state\"]\n",
    "    images = None\n",
    "\n",
    "    if len(data[\"images\"]):\n",
    "        images = data[\"images\"]\n",
    "\n",
    "    print(f\"Inference ID: {inference_id}. State: {state}\")\n",
    "\n",
    "    return inference_id, state, images"
   ]
  },
  {
   "cell_type": "code",
   "execution_count": 6,
   "metadata": {},
   "outputs": [
    {
     "name": "stdout",
     "output_type": "stream",
     "text": [
      "Inference ID: c308f593-9858-4e67-9a30-4b1a7f2134c3. Status: queued\n",
      "Inference ID: c308f593-9858-4e67-9a30-4b1a7f2134c3. State: queued\n",
      "Inference ID: c308f593-9858-4e67-9a30-4b1a7f2134c3. State: queued\n",
      "Inference ID: c308f593-9858-4e67-9a30-4b1a7f2134c3. State: queued\n",
      "Inference ID: c308f593-9858-4e67-9a30-4b1a7f2134c3. State: finished\n"
     ]
    },
    {
     "data": {
      "text/html": [
       "<img src=\"https://static.tryleap.ai/image-gen-c308f593-9858-4e67-9a30-4b1a7f2134c3/generated_images/0.png\"/>"
      ],
      "text/plain": [
       "<IPython.core.display.Image object>"
      ]
     },
     "metadata": {},
     "output_type": "display_data"
    }
   ],
   "source": [
    " # Generate a single image\n",
    "model_id = \"eabxxxx0-de26-4b83-a908-a83f3015e971\"\n",
    "\n",
    "# Generate a single image using the specified prompt\n",
    "inference_id, status = generate_image(\n",
    "    model_id,\n",
    "    prompt=\"A serene landscape with mountains and a calm lake\" # Prompt\n",
    ")\n",
    "\n",
    "# Wait for the inference job to finish\n",
    "while status != \"finished\":\n",
    "    time.sleep(10)\n",
    "    inference_id, status, images = get_inference_job(model_id, inference_id)\n",
    "\n",
    "\n",
    "# Display the generated image, if available\n",
    "for image in images:\n",
    "    display(Image(url=image[\"uri\"]))"
   ]
  },
  {
   "cell_type": "code",
   "execution_count": 7,
   "metadata": {},
   "outputs": [
    {
     "name": "stdout",
     "output_type": "stream",
     "text": [
      "Inference ID: 16b6f99a-399c-42dc-9e2d-80bf774623b8. Status: queued\n",
      "Inference ID: 16b6f99a-399c-42dc-9e2d-80bf774623b8. State: queued\n",
      "Inference ID: 16b6f99a-399c-42dc-9e2d-80bf774623b8. State: queued\n",
      "Inference ID: 16b6f99a-399c-42dc-9e2d-80bf774623b8. State: queued\n",
      "Inference ID: 16b6f99a-399c-42dc-9e2d-80bf774623b8. State: finished\n"
     ]
    },
    {
     "data": {
      "text/html": [
       "<img src=\"https://static.tryleap.ai/image-gen-16b6f99a-399c-42dc-9e2d-80bf774623b8/generated_images/0.png\"/>"
      ],
      "text/plain": [
       "<IPython.core.display.Image object>"
      ]
     },
     "metadata": {},
     "output_type": "display_data"
    }
   ],
   "source": [
    "model_id = \"exxxxdf0-de26-4b83-a908-a83f3015e971\"\n",
    "inference_id, status = generate_image(\n",
    "    model_id,\n",
    "    prompt=\"An abstract painting with vibrant colors and dynamic brushstrokes\" # Prompt\n",
    ")\n",
    "while status != \"finished\":\n",
    "    time.sleep(10)\n",
    "    inference_id, status, images = get_inference_job(model_id, inference_id)\n",
    "\n",
    "for image in images:\n",
    "    display(Image(url=image[\"uri\"]))"
   ]
  },
  {
   "cell_type": "code",
   "execution_count": 8,
   "metadata": {},
   "outputs": [
    {
     "name": "stdout",
     "output_type": "stream",
     "text": [
      "Inference ID: dc60fbe8-4fb6-45f7-a79e-131b846d293f. Status: queued\n",
      "Inference ID: dc60fbe8-4fb6-45f7-a79e-131b846d293f. State: queued\n",
      "Inference ID: dc60fbe8-4fb6-45f7-a79e-131b846d293f. State: queued\n",
      "Inference ID: dc60fbe8-4fb6-45f7-a79e-131b846d293f. State: queued\n",
      "Inference ID: dc60fbe8-4fb6-45f7-a79e-131b846d293f. State: finished\n"
     ]
    },
    {
     "data": {
      "text/html": [
       "<img src=\"https://static.tryleap.ai/image-gen-dc60fbe8-xxxx-45f7-a79e-131b846d293f/generated_images/0.png\"/>"
      ],
      "text/plain": [
       "<IPython.core.display.Image object>"
      ]
     },
     "metadata": {},
     "output_type": "display_data"
    }
   ],
   "source": [
    "model_id = \"xxxx2df0-de26-4b83-a908-a83f3015e971\"\n",
    "inference_id, status = generate_image(\n",
    "    model_id,\n",
    "    prompt=\"A cozy living room with a fireplace and comfortable furniture\" # Prompt\n",
    ")\n",
    "while status != \"finished\":\n",
    "    time.sleep(10)\n",
    "    inference_id, status, images = get_inference_job(model_id, inference_id)\n",
    "\n",
    "for image in images:\n",
    "    display(Image(url=image[\"uri\"]))"
   ]
  }
 ],
 "metadata": {
  "kernelspec": {
   "display_name": "Python 3",
   "language": "python",
   "name": "python3"
  },
  "language_info": {
   "codemirror_mode": {
    "name": "ipython",
    "version": 3
   },
   "file_extension": ".py",
   "mimetype": "text/x-python",
   "name": "python",
   "nbconvert_exporter": "python",
   "pygments_lexer": "ipython3",
   "version": "3.9.13"
  },
  "orig_nbformat": 4
 },
 "nbformat": 4,
 "nbformat_minor": 2
}
